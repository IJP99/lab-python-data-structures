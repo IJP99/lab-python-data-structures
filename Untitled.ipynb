{
 "cells": [
  {
   "cell_type": "code",
   "execution_count": 22,
   "id": "2f494ab7-9cbd-447a-a0f5-05cb632cb85f",
   "metadata": {},
   "outputs": [
    {
     "name": "stdin",
     "output_type": "stream",
     "text": [
      "Select a products from our catalogue, product: keychain\n",
      "Would you like to add another product to your order (yes/no) yes\n",
      "Select a products from our catalogue, product: book\n",
      "Would you like to add another product to your order (yes/no) no\n"
     ]
    },
    {
     "name": "stdout",
     "output_type": "stream",
     "text": [
      "You have selected all your products\n"
     ]
    }
   ],
   "source": [
    "customer_orders = set()\n",
    "\n",
    "set_number = input(\"Select a products from our catalogue, product:\")\n",
    "while set_number != \"t-shirt\" and set_number != \"mug\" and set_number != \"hat\" and set_number != \"book\" and set_number != \"keychain\":\n",
    "    print(\"please choose between t-shirt, mug, hat, book or keychain\")\n",
    "    set_number = input(\"Select a products from our catalogue, product:\")\n",
    "\n",
    "customer_orders.add(set_number)\n",
    "\n",
    "another_prod = input(\"Would you like to add another product to your order (yes/no)\")\n",
    "while another_prod == \"yes\":\n",
    "    set_number = input(\"Select a products from our catalogue, product:\")\n",
    "    while set_number != \"t-shirt\" and set_number != \"mug\" and set_number != \"hat\" and set_number != \"book\" and set_number != \"keychain\":\n",
    "        print(\"please choose between t-shirt, mug, hat, book or keychain\")\n",
    "        set_number = input(\"Select a products from our catalogue, product:\")\n",
    "    customer_orders.add(set_number)\n",
    "    another_prod = input(\"Would you like to add another product to your order (yes/no)\")\n",
    "    \n",
    "if another_prod == \"no\":\n",
    "    print(\"You have selected all your products\")\n"
   ]
  },
  {
   "cell_type": "code",
   "execution_count": 23,
   "id": "71596289-05d2-4955-924c-199084a37e8b",
   "metadata": {},
   "outputs": [
    {
     "name": "stdout",
     "output_type": "stream",
     "text": [
      "{'keychain', 'book'}\n"
     ]
    }
   ],
   "source": [
    "print(customer_orders)"
   ]
  },
  {
   "cell_type": "code",
   "execution_count": null,
   "id": "b4530638-3793-4eb6-a2e1-8ee6a1e660f8",
   "metadata": {},
   "outputs": [],
   "source": []
  }
 ],
 "metadata": {
  "kernelspec": {
   "display_name": "Python 3 (ipykernel)",
   "language": "python",
   "name": "python3"
  },
  "language_info": {
   "codemirror_mode": {
    "name": "ipython",
    "version": 3
   },
   "file_extension": ".py",
   "mimetype": "text/x-python",
   "name": "python",
   "nbconvert_exporter": "python",
   "pygments_lexer": "ipython3",
   "version": "3.11.7"
  }
 },
 "nbformat": 4,
 "nbformat_minor": 5
}
