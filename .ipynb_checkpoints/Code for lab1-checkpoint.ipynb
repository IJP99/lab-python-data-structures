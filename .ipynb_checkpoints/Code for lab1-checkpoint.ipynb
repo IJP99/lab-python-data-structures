{
 "cells": [
  {
   "cell_type": "code",
   "execution_count": 10,
   "id": "1852b4d6-6493-4e09-b3a9-d21883f87af0",
   "metadata": {},
   "outputs": [
    {
     "name": "stdin",
     "output_type": "stream",
     "text": [
      "Select the number you want of t-shirt:  2\n",
      "Select the number you want of mug:  3\n",
      "Select the number you want of hat:  4\n",
      "Select the number you want of book:  5\n",
      "Select the number you want of keychain:  6\n"
     ]
    },
    {
     "name": "stdout",
     "output_type": "stream",
     "text": [
      "{'t-shirt': '2', 'mug': '3', 'hat': '4', 'book': '5', 'keychain': '6'}\n"
     ]
    }
   ],
   "source": [
    "#exercise 1, 2, 3\n",
    "\n",
    "products = [\"t-shirt\", \"mug\", \"hat\", \"book\", \"keychain\"]\n",
    "inventory = {}\n",
    "for i in range(len(products)):\n",
    "    quantity = input(\"Select the number you want of \" + products[i] + \": \")\n",
    "    inventory[products[i]] = quantity\n",
    "\n",
    "print(inventory)"
   ]
  },
  {
   "cell_type": "code",
   "execution_count": 16,
   "id": "afd08791-9304-4e2c-a21a-c5fa4d33169d",
   "metadata": {},
   "outputs": [
    {
     "name": "stdin",
     "output_type": "stream",
     "text": [
      "Select 3 products from our catalogue, product 1: asdf\n"
     ]
    },
    {
     "name": "stdout",
     "output_type": "stream",
     "text": [
      "please choose between t-shirt, mug, hat, book or keychain\n"
     ]
    },
    {
     "name": "stdin",
     "output_type": "stream",
     "text": [
      "Select 3 products from our catalogue, product 1: af\n"
     ]
    },
    {
     "name": "stdout",
     "output_type": "stream",
     "text": [
      "please choose between t-shirt, mug, hat, book or keychain\n"
     ]
    },
    {
     "name": "stdin",
     "output_type": "stream",
     "text": [
      "Select 3 products from our catalogue, product 1: t-shirt\n",
      "Select 3 products from our catalogue, product 2: keychain\n",
      "Select 3 products from our catalogue, product 3: mug\n"
     ]
    },
    {
     "name": "stdout",
     "output_type": "stream",
     "text": [
      "{'t-shirt', 'mug', 'keychain'}\n"
     ]
    }
   ],
   "source": [
    "#exercise 4, 5, 6\n",
    "\n",
    "customer_orders = set()\n",
    "\n",
    "for o in range(3):\n",
    "    set_number = input(\"Select 3 products from our catalogue, product \" + str(o+1) + \":\")\n",
    "    while set_number != \"t-shirt\" and set_number != \"mug\" and set_number != \"hat\" and set_number != \"book\" and set_number != \"keychain\":\n",
    "        print(\"please choose between t-shirt, mug, hat, book or keychain\")\n",
    "        set_number = input(\"Select 3 products from our catalogue, product \" + str(o+1) + \":\")\n",
    "        \n",
    "    customer_orders.add(set_number)\n",
    "\n",
    "print(customer_orders)\n",
    "    "
   ]
  },
  {
   "cell_type": "code",
   "execution_count": 30,
   "id": "ac0e2f67-a621-4be2-9c58-d94fe7a7b251",
   "metadata": {},
   "outputs": [
    {
     "name": "stdout",
     "output_type": "stream",
     "text": [
      "{3, 60}\n"
     ]
    }
   ],
   "source": [
    "#exercise 7\n",
    "\n",
    "set_len = len(customer_orders)\n",
    "prod_len = len(products)\n",
    "percen_total_prod = int((set_len / prod_len) * 100)\n",
    "\n",
    "order_status = {set_len, percen_total_prod}\n",
    "print(order_status)"
   ]
  },
  {
   "cell_type": "code",
   "execution_count": 33,
   "id": "c07b180d-6d6e-4db3-ab30-e2109e1e8cbe",
   "metadata": {},
   "outputs": [
    {
     "name": "stdout",
     "output_type": "stream",
     "text": [
      "Order statistics:\n",
      "Total Products ordered: 3\n",
      "Percentage of products Ordered; 60 %\n"
     ]
    }
   ],
   "source": [
    "#exercise 8\n",
    "\n",
    "print(\"Order statistics:\")\n",
    "print(\"Total Products ordered:\", set_len)\n",
    "print(\"Percentage of products Ordered;\", percen_total_prod,\"%\")"
   ]
  },
  {
   "cell_type": "code",
   "execution_count": 44,
   "id": "7f110376-4434-413e-898a-df124530f046",
   "metadata": {},
   "outputs": [
    {
     "name": "stdout",
     "output_type": "stream",
     "text": [
      "{'t-shirt': 1, 'mug': 2, 'hat': 3, 'book': 4, 'keychain': 5}\n"
     ]
    }
   ],
   "source": [
    "#execise 9\n",
    "\n",
    "for key, value in inventory.items():\n",
    "    inventory[key] = int(value) - 1\n",
    "\n",
    "print(inventory)"
   ]
  },
  {
   "cell_type": "code",
   "execution_count": 51,
   "id": "fb38d743-fd53-44b6-9e60-01bdf0d4214b",
   "metadata": {},
   "outputs": [
    {
     "name": "stdout",
     "output_type": "stream",
     "text": [
      "the amount of t-shirt is 1\n",
      "the amount of mug is 2\n",
      "the amount of hat is 3\n",
      "the amount of book is 4\n",
      "the amount of keychain is 5\n"
     ]
    }
   ],
   "source": [
    "#exercise 10\n",
    "\n",
    "for key, value in inventory.items():\n",
    "    print(\"the amount of\", key, \"is\", value)"
   ]
  },
  {
   "cell_type": "code",
   "execution_count": null,
   "id": "db2dd45c-78a9-4e6f-95b7-a67f7cfc0664",
   "metadata": {},
   "outputs": [],
   "source": []
  }
 ],
 "metadata": {
  "kernelspec": {
   "display_name": "Python 3 (ipykernel)",
   "language": "python",
   "name": "python3"
  },
  "language_info": {
   "codemirror_mode": {
    "name": "ipython",
    "version": 3
   },
   "file_extension": ".py",
   "mimetype": "text/x-python",
   "name": "python",
   "nbconvert_exporter": "python",
   "pygments_lexer": "ipython3",
   "version": "3.11.7"
  }
 },
 "nbformat": 4,
 "nbformat_minor": 5
}
