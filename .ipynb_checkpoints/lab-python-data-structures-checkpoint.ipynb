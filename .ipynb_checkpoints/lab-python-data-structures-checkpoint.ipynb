{
 "cells": [
  {
   "cell_type": "markdown",
   "metadata": {
    "tags": []
   },
   "source": [
    "# Lab | Data Structures "
   ]
  },
  {
   "cell_type": "markdown",
   "metadata": {},
   "source": [
    "## Exercise: Managing Customer Orders\n",
    "\n",
    "As part of a business venture, you are starting an online store that sells various products. To ensure smooth operations, you need to develop a program that manages customer orders and inventory.\n",
    "\n",
    "Follow the steps below to complete the exercise:\n",
    "\n",
    "1. Define a list called `products` that contains the following items: \"t-shirt\", \"mug\", \"hat\", \"book\", \"keychain\".\n",
    "\n",
    "2. Create an empty dictionary called `inventory`.\n",
    "\n",
    "3. Ask the user to input the quantity of each product available in the inventory. Use the product names from the `products` list as keys in the `inventory` dictionary and assign the respective quantities as values.\n",
    "\n",
    "4. Create an empty set called `customer_orders`.\n",
    "\n",
    "5. Ask the user to input the name of three products that a customer wants to order (from those in the products list, meaning three products out of \"t-shirt\", \"mug\", \"hat\", \"book\" or \"keychain\". Add each product name to the `customer_orders` set.\n",
    "\n",
    "6. Print the products in the `customer_orders` set.\n",
    "\n",
    "7. Calculate the following order statistics:\n",
    "   - Total Products Ordered: The total number of products in the `customer_orders` set.\n",
    "   - Percentage of Products Ordered: The percentage of products ordered compared to the total available products.\n",
    "   \n",
    "   Store these statistics in a tuple called `order_status`.\n",
    "\n",
    "8. Print the order statistics using the following format:\n",
    "   ```\n",
    "   Order Statistics:\n",
    "   Total Products Ordered: <total_products_ordered>\n",
    "   Percentage of Products Ordered: <percentage_ordered>% \n",
    "   ```\n",
    "\n",
    "9. Update the inventory by subtracting 1 from the quantity of each product. Modify the `inventory` dictionary accordingly.\n",
    "\n",
    "10. Print the updated inventory, displaying the quantity of each product on separate lines.\n",
    "\n",
    "Solve the exercise by implementing the steps using the Python concepts of lists, dictionaries, sets, and basic input/output operations. "
   ]
  },
  {
   "cell_type": "code",
   "execution_count": 1,
   "metadata": {},
   "outputs": [
    {
     "name": "stdin",
     "output_type": "stream",
     "text": [
      "Select the number you want of t-shirt:  2\n",
      "Select the number you want of mug:  3\n",
      "Select the number you want of hat:  4\n",
      "Select the number you want of book:  5\n",
      "Select the number you want of keychain:  6\n"
     ]
    },
    {
     "name": "stdout",
     "output_type": "stream",
     "text": [
      "{'t-shirt': '2', 'mug': '3', 'hat': '4', 'book': '5', 'keychain': '6'}\n"
     ]
    }
   ],
   "source": [
    "#exercise 1, 2, 3\n",
    "\n",
    "products = [\"t-shirt\", \"mug\", \"hat\", \"book\", \"keychain\"]\n",
    "inventory = {}\n",
    "for i in range(len(products)):\n",
    "    quantity = input(\"Select the number you want of \" + products[i] + \": \")\n",
    "    inventory[products[i]] = quantity\n",
    "\n",
    "print(inventory)"
   ]
  },
  {
   "cell_type": "code",
   "execution_count": 2,
   "metadata": {},
   "outputs": [
    {
     "name": "stdin",
     "output_type": "stream",
     "text": [
      "Select 3 products from our catalogue, product 1: keychain\n",
      "Select 3 products from our catalogue, product 2: t-shirt\n",
      "Select 3 products from our catalogue, product 3: mug\n"
     ]
    },
    {
     "name": "stdout",
     "output_type": "stream",
     "text": [
      "{'t-shirt', 'keychain', 'mug'}\n"
     ]
    }
   ],
   "source": [
    "#exercise 4, 5, 6\n",
    "\n",
    "customer_orders = set()\n",
    "\n",
    "for o in range(3):\n",
    "    set_number = input(\"Select 3 products from our catalogue, product \" + str(o+1) + \":\")\n",
    "    while set_number != \"t-shirt\" and set_number != \"mug\" and set_number != \"hat\" and set_number != \"book\" and set_number != \"keychain\":\n",
    "        print(\"please choose between t-shirt, mug, hat, book or keychain\")\n",
    "        set_number = input(\"Select 3 products from our catalogue, product \" + str(o+1) + \":\")\n",
    "        \n",
    "    customer_orders.add(set_number)\n",
    "\n",
    "print(customer_orders)\n",
    "    "
   ]
  },
  {
   "cell_type": "code",
   "execution_count": 3,
   "metadata": {},
   "outputs": [
    {
     "name": "stdout",
     "output_type": "stream",
     "text": [
      "{3, 60}\n"
     ]
    }
   ],
   "source": [
    "#exercise 7\n",
    "\n",
    "set_len = len(customer_orders)\n",
    "prod_len = len(products)\n",
    "percen_total_prod = int((set_len / prod_len) * 100)\n",
    "\n",
    "order_status = {set_len, percen_total_prod}\n",
    "print(order_status)"
   ]
  },
  {
   "cell_type": "code",
   "execution_count": 4,
   "metadata": {},
   "outputs": [
    {
     "name": "stdout",
     "output_type": "stream",
     "text": [
      "Order statistics:\n",
      "Total Products ordered: 3\n",
      "Percentage of products Ordered; 60 %\n"
     ]
    }
   ],
   "source": [
    "#exercise 8\n",
    "\n",
    "print(\"Order statistics:\")\n",
    "print(\"Total Products ordered:\", set_len)\n",
    "print(\"Percentage of products Ordered;\", percen_total_prod,\"%\")"
   ]
  },
  {
   "cell_type": "code",
   "execution_count": 5,
   "metadata": {},
   "outputs": [
    {
     "name": "stdout",
     "output_type": "stream",
     "text": [
      "{'t-shirt': 1, 'mug': 2, 'hat': 3, 'book': 4, 'keychain': 5}\n"
     ]
    }
   ],
   "source": [
    "#execise 9\n",
    "\n",
    "for key, value in inventory.items():\n",
    "    inventory[key] = int(value) - 1\n",
    "\n",
    "print(inventory)"
   ]
  },
  {
   "cell_type": "code",
   "execution_count": 6,
   "metadata": {},
   "outputs": [
    {
     "name": "stdout",
     "output_type": "stream",
     "text": [
      "the amount of t-shirt is 1\n",
      "the amount of mug is 2\n",
      "the amount of hat is 3\n",
      "the amount of book is 4\n",
      "the amount of keychain is 5\n"
     ]
    }
   ],
   "source": [
    "#exercise 10\n",
    "\n",
    "for key, value in inventory.items():\n",
    "    print(\"the amount of\", key, \"is\", value)"
   ]
  },
  {
   "cell_type": "code",
   "execution_count": null,
   "metadata": {},
   "outputs": [],
   "source": []
  }
 ],
 "metadata": {
  "kernelspec": {
   "display_name": "Python 3 (ipykernel)",
   "language": "python",
   "name": "python3"
  },
  "language_info": {
   "codemirror_mode": {
    "name": "ipython",
    "version": 3
   },
   "file_extension": ".py",
   "mimetype": "text/x-python",
   "name": "python",
   "nbconvert_exporter": "python",
   "pygments_lexer": "ipython3",
   "version": "3.11.7"
  }
 },
 "nbformat": 4,
 "nbformat_minor": 4
}
